{
 "cells": [
  {
   "cell_type": "markdown",
   "id": "19693e18",
   "metadata": {},
   "source": [
    "# Classification benchmark: PLN-Tree"
   ]
  },
  {
   "cell_type": "markdown",
   "id": "3d12598e",
   "metadata": {},
   "source": [
    "## Synthetic data"
   ]
  },
  {
   "cell_type": "markdown",
   "id": "5fa43c6f",
   "metadata": {},
   "source": [
    "### Define base model"
   ]
  },
  {
   "cell_type": "code",
   "execution_count": 23,
   "id": "82a696d9",
   "metadata": {
    "ExecuteTime": {
     "end_time": "2024-05-23T09:34:33.149038Z",
     "start_time": "2024-05-23T09:34:33.145400Z"
    }
   },
   "source": [
    "from plntree.models import PLNTreeConditional\n",
    "from plntree.utils.classifiers import DenseClassifier, RNNClassifier\n",
    "from plntree.utils.jupyter_functions import *\n",
    "from plntree.data.utils import numpy_dataset_to_torch_dataloader\n",
    "import torch\n",
    "import torch.optim as optim"
   ],
   "outputs": []
  },
  {
   "cell_type": "code",
   "execution_count": 2,
   "id": "2a9ad85d",
   "metadata": {
    "ExecuteTime": {
     "end_time": "2024-05-23T09:28:07.419624Z",
     "start_time": "2024-05-23T09:28:07.416506Z"
    }
   },
   "source": [
    "seed = 42\n",
    "prefix = f'synthetic_plntree_classifier_s{seed}'\n",
    "\n",
    "seed_all(seed)"
   ],
   "outputs": []
  },
  {
   "cell_type": "code",
   "execution_count": 3,
   "id": "fef447e7",
   "metadata": {
    "ExecuteTime": {
     "end_time": "2024-05-23T09:28:07.427247Z",
     "start_time": "2024-05-23T09:28:07.421682Z"
    }
   },
   "source": [
    "# Model parameters\n",
    "selected_layers = [1, -1]\n",
    "\n",
    "# Tree parameters\n",
    "K = [1, 5, 14, 35]\n",
    "mu_1 = torch.tensor([0., 1, -0.2, 2, 0]) + 0.1 * torch.randn(K[selected_layers[0]])\n",
    "Omega_1 = torch.tensor(artificial_loader.generate_precision_matrix(\n",
    "    artificial_loader.generate_adjacency_matrix(K[selected_layers[0]], seed=seed), \n",
    "    conditioning=0.3, \n",
    "    correlation=0.4\n",
    "))\n",
    "\n",
    "identifiable = True\n",
    "diag_correction = 1e-3\n",
    "positive_fun = 'softplus'\n",
    "\n",
    "n_latent_layers = 3\n",
    "    \n",
    "offset_method = 'constant'\n",
    "offset_constant = 8."
   ],
   "outputs": []
  },
  {
   "cell_type": "code",
   "execution_count": 4,
   "id": "4aeb5036",
   "metadata": {
    "ExecuteTime": {
     "end_time": "2024-05-23T09:28:07.898856Z",
     "start_time": "2024-05-23T09:28:07.429317Z"
    }
   },
   "source": [
    "tree = generate_hierachical_tree(K, seed=seed)\n",
    "tree.plot(legend=False, title='')\n",
    "savefig(f'{prefix}_tree_graph')"
   ],
   "outputs": []
  },
  {
   "cell_type": "code",
   "execution_count": 5,
   "id": "c7adb242",
   "metadata": {
    "ExecuteTime": {
     "end_time": "2024-05-23T09:28:07.907632Z",
     "start_time": "2024-05-23T09:28:07.900995Z"
    }
   },
   "source": [
    "seed_all(seed)\n",
    "classifier_type = DenseClassifier\n",
    "classifier_params = {\n",
    "    'n_classes':2,\n",
    "    'input_size':K[-1],\n",
    "    'hidden_sizes':[64, 32],\n",
    "    'selected_layer':-1,\n",
    "}\n",
    "classifier = classifier_type(seed=np.random.randint(1000), **classifier_params)"
   ],
   "outputs": []
  },
  {
   "cell_type": "code",
   "execution_count": 6,
   "id": "585beb61",
   "metadata": {
    "ExecuteTime": {
     "end_time": "2024-05-23T09:28:07.941077Z",
     "start_time": "2024-05-23T09:28:07.909732Z"
    }
   },
   "source": [
    "base = PLNTreeConditional(\n",
    "        tree=tree,\n",
    "        n_classes=2,\n",
    "        classifier=classifier,\n",
    "        identifiable=identifiable,\n",
    "        diag_smoothing_factor=diag_correction,\n",
    "        positive_fun=positive_fun,\n",
    "        selected_layers=selected_layers,\n",
    "        offset_method=offset_method,\n",
    "        n_latent_layers=n_latent_layers,\n",
    "        seed=seed,\n",
    "    )\n",
    "\n",
    "base.mu_fun[0].data = mu_1\n",
    "base.omega_fun[1][0].weight.data *= 20\n",
    "base.mu_fun[1][0].weight.data += 10\n",
    "base.mu_fun[2][2].weight.data *= 20\n",
    "base.mu_fun[2][2].weight.data += 5\n",
    "base.offset_constant.data = torch.tensor([offset_constant])"
   ],
   "outputs": []
  },
  {
   "cell_type": "code",
   "execution_count": 7,
   "id": "b81c2b96",
   "metadata": {
    "ExecuteTime": {
     "end_time": "2024-05-23T09:28:09.339049Z",
     "start_time": "2024-05-23T09:28:07.942957Z"
    }
   },
   "source": [
    "n = 2_000\n",
    "X_base, Y_base, Z_base, O_base = base.sample(batch_size=n, seed=seed)\n",
    "dataloader = numpy_dataset_to_torch_dataloader(X_base, Y_base, batch_size=512, shuffle=False)\n",
    "print('Proportion of label 1:', Y_base.sum() / len(Y_base))"
   ],
   "outputs": []
  },
  {
   "cell_type": "code",
   "execution_count": 8,
   "id": "1634e187",
   "metadata": {
    "ExecuteTime": {
     "end_time": "2024-05-23T09:28:10.709205Z",
     "start_time": "2024-05-23T09:28:09.340697Z"
    }
   },
   "source": [
    "vizualize_samples(dataloader, tree, base.selected_layers, autofill=True, seed=seed)\n",
    "savefig('synthetic_plntree_samples')"
   ],
   "outputs": []
  },
  {
   "cell_type": "code",
   "execution_count": 9,
   "id": "621e3583",
   "metadata": {
    "ExecuteTime": {
     "end_time": "2024-05-23T09:28:15.560451Z",
     "start_time": "2024-05-23T09:28:10.711267Z"
    }
   },
   "source": [
    "from sklearn.decomposition import PCA\n",
    "import matplotlib.lines as mlines\n",
    "\n",
    "fig, axs = plt.subplots(1, len(base.K), figsize=(18, 7))\n",
    "colors = ['C0', 'C1']\n",
    "for layer, K_l in enumerate(base.K):\n",
    "    X_l = torch.log(X_base[:, layer, :K_l] + 1e-10)\n",
    "    X_l_pca = PCA(n_components=2, random_state=seed).fit_transform(X_l)\n",
    "    for k, c in enumerate(np.unique(Y_base)):\n",
    "        indexes = np.where(Y_base == c)\n",
    "        axs[layer].plot(X_l_pca[indexes, 0], X_l_pca[indexes, 1], marker='.', linestyle='', color=colors[k], alpha=0.5)\n",
    "legend_handles = [\n",
    "        mlines.Line2D([], [], marker='o', linestyle='', color=color, alpha=0.9, label=group)\n",
    "        for color, group in zip(colors, ['label 0', 'label 1'])\n",
    "    ]\n",
    "legend = plt.legend(handles=legend_handles, fontsize=\"12\")"
   ],
   "outputs": []
  },
  {
   "cell_type": "code",
   "execution_count": 19,
   "id": "191f9c59",
   "metadata": {
    "ExecuteTime": {
     "end_time": "2024-05-23T09:31:58.980736Z",
     "start_time": "2024-05-23T09:31:58.975393Z"
    }
   },
   "source": [
    "def get_train_test(train_size=0.8, seed=None, return_indexes=False, return_dataloader=False):\n",
    "    seed_all(seed)\n",
    "    indexes = np.arange(len(X_base))\n",
    "    np.random.shuffle(indexes)\n",
    "    floor_index = int(np.floor(len(indexes) * train_size))\n",
    "    train_indexes = indexes[:floor_index]\n",
    "    test_indexes = indexes[floor_index:]\n",
    "    X_train, Y_train = X_base[train_indexes], Y_base[train_indexes]\n",
    "    X_test, Y_test = X_base[test_indexes], Y_base[test_indexes]\n",
    "    output = [X_train, Y_train, X_test, Y_test]\n",
    "    if return_indexes:\n",
    "        output.append(train_indexes)\n",
    "        output.append(test_indexes)\n",
    "    if return_dataloader:\n",
    "        dataloader_train = numpy_dataset_to_torch_dataloader(X_train, Y_train, batch_size=512, shuffle=False)\n",
    "        output.append(dataloader_train)\n",
    "    return output"
   ],
   "outputs": []
  },
  {
   "cell_type": "markdown",
   "id": "24fbaaf6",
   "metadata": {},
   "source": [
    "### Learn the model"
   ]
  },
  {
   "cell_type": "markdown",
   "id": "2878230c",
   "metadata": {},
   "source": [
    "#### Mean-field"
   ]
  },
  {
   "cell_type": "code",
   "execution_count": 15,
   "id": "71aa9356",
   "metadata": {
    "ExecuteTime": {
     "end_time": "2024-05-23T09:30:42.440837Z",
     "start_time": "2024-05-23T09:30:42.437237Z"
    }
   },
   "source": [
    "def learn_plntree_mean_field(dataloader, seed=seed, n_epoch=15_000):\n",
    "    estimator = PLNTreeConditional(\n",
    "        tree=tree,\n",
    "        n_classes=2,\n",
    "        classifier=classifier_type(seed=seed, **classifier_params),\n",
    "        identifiable=identifiable,\n",
    "        diag_smoothing_factor=diag_correction,\n",
    "        positive_fun=positive_fun,\n",
    "        selected_layers=selected_layers,\n",
    "        offset_method=offset_method,\n",
    "        n_latent_layers=n_latent_layers,\n",
    "        \n",
    "        variational_approx='mean_field',\n",
    "        variational_approx_params={'n_variational_layers': 1, 'preprocessing': ['log']},\n",
    "        seed=seed\n",
    "    )\n",
    "\n",
    "    optimizer = optim.Adam(\n",
    "        estimator.parameters(),\n",
    "        lr=1e-3,\n",
    "    )\n",
    "    return estimator.fit(optimizer, dataloader, n_epoch=n_epoch, verbose=100, max_grad_norm=5.)"
   ],
   "outputs": []
  },
  {
   "cell_type": "code",
   "execution_count": 20,
   "id": "fb84feca",
   "metadata": {
    "ExecuteTime": {
     "end_time": "2024-05-23T09:32:01.210863Z",
     "start_time": "2024-05-23T09:32:01.205909Z"
    }
   },
   "source": [
    "X_train, Y_train, X_test, Y_test, dataloader_train = get_train_test(train_size=0.8, seed=seed, return_dataloader=True)"
   ],
   "outputs": []
  },
  {
   "cell_type": "code",
   "execution_count": 24,
   "id": "55a54f7b",
   "metadata": {
    "ExecuteTime": {
     "end_time": "2024-05-23T11:26:50.360132Z",
     "start_time": "2024-05-23T09:34:36.566592Z"
    }
   },
   "source": [
    "try:\n",
    "    meanfield, meanfield_losses = load_pkl(prefix, f'mean_field')\n",
    "except:\n",
    "    print('Learning PLN-Tree (MF)')\n",
    "    meanfield, meanfield_losses = learn_plntree_mean_field(dataloader_train, seed=seed)\n",
    "    save_pkl((meanfield, meanfield_losses), prefix, f'mean_field')"
   ],
   "outputs": []
  },
  {
   "cell_type": "code",
   "execution_count": 26,
   "id": "a1f6bbc9",
   "metadata": {
    "ExecuteTime": {
     "end_time": "2024-05-23T11:55:04.706956Z",
     "start_time": "2024-05-23T11:55:04.253016Z"
    }
   },
   "source": [
    "plt.plot(meanfield_losses)\n",
    "plt.yscale('log')"
   ],
   "outputs": []
  },
  {
   "cell_type": "code",
   "execution_count": 27,
   "id": "2a143167",
   "metadata": {
    "ExecuteTime": {
     "end_time": "2024-05-23T11:55:24.925267Z",
     "start_time": "2024-05-23T11:55:24.233009Z"
    }
   },
   "source": [
    "meanfield.predict_proba(X_test)"
   ],
   "outputs": []
  },
  {
   "cell_type": "code",
   "execution_count": null,
   "id": "25e3ecbf",
   "metadata": {},
   "source": [],
   "outputs": []
  }
 ],
 "metadata": {
  "kernelspec": {
   "display_name": "Python 3 (ipykernel)",
   "language": "python",
   "name": "python3"
  },
  "language_info": {
   "codemirror_mode": {
    "name": "ipython",
    "version": 3
   },
   "file_extension": ".py",
   "mimetype": "text/x-python",
   "name": "python",
   "nbconvert_exporter": "python",
   "pygments_lexer": "ipython3",
   "version": "3.11.4"
  },
  "toc": {
   "base_numbering": 1,
   "nav_menu": {},
   "number_sections": false,
   "sideBar": true,
   "skip_h1_title": false,
   "title_cell": "Table of Contents",
   "title_sidebar": "Contents",
   "toc_cell": false,
   "toc_position": {
    "height": "calc(100% - 180px)",
    "left": "10px",
    "top": "150px",
    "width": "374.391px"
   },
   "toc_section_display": true,
   "toc_window_display": true
  }
 },
 "nbformat": 4,
 "nbformat_minor": 5
}
